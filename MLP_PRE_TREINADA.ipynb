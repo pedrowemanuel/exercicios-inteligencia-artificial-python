{
  "nbformat": 4,
  "nbformat_minor": 0,
  "metadata": {
    "colab": {
      "provenance": [],
      "toc_visible": true,
      "authorship_tag": "ABX9TyOigrWbYk5viMC39cErk1AF",
      "include_colab_link": true
    },
    "kernelspec": {
      "name": "python3",
      "display_name": "Python 3"
    },
    "language_info": {
      "name": "python"
    }
  },
  "cells": [
    {
      "cell_type": "markdown",
      "metadata": {
        "id": "view-in-github",
        "colab_type": "text"
      },
      "source": [
        "<a href=\"https://colab.research.google.com/github/pedrowemanuel/exercicios-inteligencia-artificial-python/blob/main/MLP_PRE_TREINADA.ipynb\" target=\"_parent\"><img src=\"https://colab.research.google.com/assets/colab-badge.svg\" alt=\"Open In Colab\"/></a>"
      ]
    },
    {
      "cell_type": "markdown",
      "source": [
        "# MLP PRÉ TREINADA"
      ],
      "metadata": {
        "id": "Ebyr3idTaexe"
      }
    },
    {
      "cell_type": "markdown",
      "source": [
        "Definação do algoritmo"
      ],
      "metadata": {
        "id": "bO1NoMCwNLXd"
      }
    },
    {
      "cell_type": "code",
      "execution_count": 4,
      "metadata": {
        "id": "838h1F9YZx_-"
      },
      "outputs": [],
      "source": [
        "import numpy as np\n",
        "\n",
        "def neuronioMP(x, w, funcao_ativacao, bias=-1):\n",
        "\n",
        "  ativacao = bias\n",
        "\n",
        "  # somatório da multiplicação das entradas pelos pesos\n",
        "  for indice in range(len(x)):\n",
        "    ativacao += x[indice] * w[indice]\n",
        "\n",
        "  # passa o resultado para a função de ativação\n",
        "  return funcao_ativacao(ativacao)"
      ]
    },
    {
      "cell_type": "code",
      "source": [
        "def funcao_ativacao(x):\n",
        "  return 1 / (1 + np.exp(-x))"
      ],
      "metadata": {
        "id": "CvaHGkJYpT4U"
      },
      "execution_count": 2,
      "outputs": []
    },
    {
      "cell_type": "code",
      "source": [
        "def mlp(x):\n",
        "  w = [\n",
        "      [[0.2, -0.1, 0.4], [0.7, -1.2, 1.2]],\n",
        "      [[0.1, 0.1], [3.1, 1.17]]\n",
        "    ]\n",
        "  bias=-1\n",
        "\n",
        "  # camada oculta\n",
        "  h1 = neuronioMP(x, w[0][0], funcao_ativacao, bias)\n",
        "  h2 = neuronioMP(x, w[0][1], funcao_ativacao, bias)\n",
        "\n",
        "  # camada de saída\n",
        "  o1 = neuronioMP([h1, h2], w[1][0], funcao_ativacao, bias)\n",
        "  o2 = neuronioMP([h1, h2], w[1][1], funcao_ativacao, bias)\n",
        "\n",
        "  return [o1, o2]"
      ],
      "metadata": {
        "id": "4VbGKz6Nr0gA"
      },
      "execution_count": 7,
      "outputs": []
    },
    {
      "cell_type": "markdown",
      "source": [
        "usando o algoritmo para resolver o problema"
      ],
      "metadata": {
        "id": "rZh3zwoKo1eN"
      }
    },
    {
      "cell_type": "code",
      "source": [
        "x = [10, 12, -9]\n",
        "saidas = mlp(x)\n",
        "\n",
        "print(saidas)\n",
        "\n",
        "if(saidas[0] >= saidas[1]):\n",
        "  print('Classe 1')\n",
        "else:\n",
        "  print('Classe 2')"
      ],
      "metadata": {
        "colab": {
          "base_uri": "https://localhost:8080/"
        },
        "id": "EgJqKm5NwFoc",
        "outputId": "2931c186-700a-4738-b8a5-804164e3a0c1"
      },
      "execution_count": 9,
      "outputs": [
        {
          "output_type": "stream",
          "name": "stdout",
          "text": [
            "[0.26937185080544257, 0.28248507028706094]\n",
            "Classe 2\n"
          ]
        }
      ]
    },
    {
      "cell_type": "code",
      "source": [
        "x = [-2, 3, 30]\n",
        "saidas = mlp(x)\n",
        "\n",
        "print(saidas)\n",
        "\n",
        "if(saidas[0] >= saidas[1]):\n",
        "  print('Classe 1')\n",
        "else:\n",
        "  print('Classe 2')"
      ],
      "metadata": {
        "colab": {
          "base_uri": "https://localhost:8080/"
        },
        "id": "j95uWo2IxQ1M",
        "outputId": "0ec5154c-cd36-4659-8414-5b6d5138c157"
      },
      "execution_count": 10,
      "outputs": [
        {
          "output_type": "stream",
          "name": "stdout",
          "text": [
            "[0.31002479945252315, 0.9633814938936969]\n",
            "Classe 2\n"
          ]
        }
      ]
    }
  ]
}