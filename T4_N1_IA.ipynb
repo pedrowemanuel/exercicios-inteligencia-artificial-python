{
  "nbformat": 4,
  "nbformat_minor": 0,
  "metadata": {
    "colab": {
      "provenance": [],
      "mount_file_id": "1NUHzjDipZpH0rSXNm9G9E5QmMlM0bwVY",
      "authorship_tag": "ABX9TyPFA41Bowt7z2SnLJi9F9b2",
      "include_colab_link": true
    },
    "kernelspec": {
      "name": "python3",
      "display_name": "Python 3"
    },
    "language_info": {
      "name": "python"
    }
  },
  "cells": [
    {
      "cell_type": "markdown",
      "metadata": {
        "id": "view-in-github",
        "colab_type": "text"
      },
      "source": [
        "<a href=\"https://colab.research.google.com/github/pedrowemanuel/exercicios-inteligencia-artificial-python/blob/main/T4_N1_IA.ipynb\" target=\"_parent\"><img src=\"https://colab.research.google.com/assets/colab-badge.svg\" alt=\"Open In Colab\"/></a>"
      ]
    },
    {
      "cell_type": "markdown",
      "source": [
        "**Disciplina Inteligência Artificial, trabalho T4_N1_IA**"
      ],
      "metadata": {
        "id": "Jpmoa-KuFW53"
      }
    },
    {
      "cell_type": "markdown",
      "source": [
        "**Autor: Pedro Rodrigues**"
      ],
      "metadata": {
        "id": "3OUZiLvxF5qz"
      }
    },
    {
      "cell_type": "code",
      "execution_count": null,
      "metadata": {
        "id": "Gf2hmg6jDsDq"
      },
      "outputs": [],
      "source": []
    }
  ]
}