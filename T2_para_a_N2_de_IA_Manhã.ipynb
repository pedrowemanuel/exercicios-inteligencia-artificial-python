{
  "nbformat": 4,
  "nbformat_minor": 0,
  "metadata": {
    "colab": {
      "provenance": [],
      "toc_visible": true,
      "authorship_tag": "ABX9TyOGG1fX+ZdUCSPd+yidg1sD",
      "include_colab_link": true
    },
    "kernelspec": {
      "name": "python3",
      "display_name": "Python 3"
    },
    "language_info": {
      "name": "python"
    }
  },
  "cells": [
    {
      "cell_type": "markdown",
      "metadata": {
        "id": "view-in-github",
        "colab_type": "text"
      },
      "source": [
        "<a href=\"https://colab.research.google.com/github/pedrowemanuel/exercicios-inteligencia-artificial-python/blob/main/T2_para_a_N2_de_IA_Manh%C3%A3.ipynb\" target=\"_parent\"><img src=\"https://colab.research.google.com/assets/colab-badge.svg\" alt=\"Open In Colab\"/></a>"
      ]
    },
    {
      "cell_type": "markdown",
      "source": [
        "# Perceptron"
      ],
      "metadata": {
        "id": "Ebyr3idTaexe"
      }
    },
    {
      "cell_type": "code",
      "execution_count": 1,
      "metadata": {
        "id": "838h1F9YZx_-"
      },
      "outputs": [],
      "source": [
        "class Perceptron:\n",
        "  def __init__(self, alpha=0.0001, eta0=1, max_iter=1000):\n",
        "    \"\"\"\n",
        "    Classificador Perceptron simples\n",
        "\n",
        "    :param alpha: Constante que multiplica o termo de regularização (passo de aprendizagem)\n",
        "    :param eta0: Constante pela qual as atualizações do tetha(bias) são multiplicadas\n",
        "    :param max_iter: número máximo de iterações\n",
        "    \"\"\" \n",
        "    self.X = []\n",
        "    self.y = []\n",
        "    self.w = []\n",
        "    self.eta0 = eta0\n",
        "  def treinar(X, y):\n",
        "    \"\"\"\n",
        "    realizar o treinamento do algoritmo\n",
        "\n",
        "    :param X: entradas\n",
        "    :param y: rótulos\n",
        "    :return: precição obtida\n",
        "    \"\"\" \n",
        "    return 0.0\n",
        "  def __rele(u):\n",
        "    if(u > 0):\n",
        "      return 1\n",
        "    return -1\n",
        "  def classificar(X):\n",
        "    \"\"\"\n",
        "    realizar o classificação de dados desconhidos\n",
        "\n",
        "    :param X: entradas\n",
        "    :return: rótulos\n",
        "    \"\"\"\n",
        "    return []"
      ]
    },
    {
      "cell_type": "code",
      "source": [
        "perceptron = Perceptron()"
      ],
      "metadata": {
        "id": "AkOaDeyZOYG_"
      },
      "execution_count": 2,
      "outputs": []
    }
  ]
}