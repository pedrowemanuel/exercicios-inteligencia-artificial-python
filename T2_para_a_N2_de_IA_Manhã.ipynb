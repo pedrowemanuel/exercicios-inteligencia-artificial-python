{
  "nbformat": 4,
  "nbformat_minor": 0,
  "metadata": {
    "colab": {
      "provenance": [],
      "toc_visible": true,
      "authorship_tag": "ABX9TyPeeiJ8dx0PBGQjyosDX6/i",
      "include_colab_link": true
    },
    "kernelspec": {
      "name": "python3",
      "display_name": "Python 3"
    },
    "language_info": {
      "name": "python"
    }
  },
  "cells": [
    {
      "cell_type": "markdown",
      "metadata": {
        "id": "view-in-github",
        "colab_type": "text"
      },
      "source": [
        "<a href=\"https://colab.research.google.com/github/pedrowemanuel/exercicios-inteligencia-artificial-python/blob/main/T2_para_a_N2_de_IA_Manh%C3%A3.ipynb\" target=\"_parent\"><img src=\"https://colab.research.google.com/assets/colab-badge.svg\" alt=\"Open In Colab\"/></a>"
      ]
    },
    {
      "cell_type": "markdown",
      "source": [
        "# Perceptron"
      ],
      "metadata": {
        "id": "Ebyr3idTaexe"
      }
    },
    {
      "cell_type": "markdown",
      "source": [
        "Definação do algoritmo"
      ],
      "metadata": {
        "id": "bO1NoMCwNLXd"
      }
    },
    {
      "cell_type": "code",
      "execution_count": 223,
      "metadata": {
        "id": "838h1F9YZx_-"
      },
      "outputs": [],
      "source": [
        "import random\n",
        "\n",
        "class Perceptron:\n",
        "  def __init__(self, alpha=0.001, eta0=1, max_iter=1000):\n",
        "    \"\"\"\n",
        "    Classificador Perceptron simples\n",
        "\n",
        "    :param alpha: Constante entre 0 e 1 que multiplica o termo de regularização (passo de aprendizagem)\n",
        "    :param eta0: Constante pela qual as atualizações do tetha(bias) são multiplicadas\n",
        "    :param max_iter: número máximo de iterações\n",
        "    \"\"\" \n",
        "\n",
        "    self.w = []\n",
        "    self.bias = random.uniform(-1, 1)\n",
        "    self.eta0 = eta0\n",
        "    self.alpha = alpha\n",
        "    self.max_iter = max_iter\n",
        "\n",
        "  def __funcao_ativacao(self,u):\n",
        "    if(u > 0):\n",
        "      return 1\n",
        "    return -1\n",
        "\n",
        "  def __neuronioMP(self,x):\n",
        "    # Algoritmo Neurônio de McCulloch-Pits.\n",
        "    ativacao = self.eta0 * self.bias\n",
        "    for indice in range(len(x)):\n",
        "      ativacao += x[indice] * self.w[indice]\n",
        "    return self.__funcao_ativacao(ativacao)\n",
        "  def __calcular_peso(self,erro,x):\n",
        "    novo_w = []\n",
        "    for indice in range(len(self.w)):\n",
        "      novo_w.append(self.w[indice] + (self.alpha * erro * x[indice]))\n",
        "    return novo_w\n",
        "        \n",
        "  def treinar(self,X, y):\n",
        "    \"\"\"\n",
        "    realizar o treinamento do algoritmo\n",
        "\n",
        "    :param X: entradas\n",
        "    :param y: rótulos (cada um rótulo ou é -1 ou é 1)\n",
        "    \"\"\"\n",
        "    quantidade_atributos = len(X[0])\n",
        "    quantidade_instancias = len(X)\n",
        "\n",
        "    self.w = []\n",
        "    for i in range(quantidade_atributos):\n",
        "      self.w.append(random.uniform(-1, 1))\n",
        "  \n",
        "    quantidade_iteracoes = 0\n",
        "    total_de_erros = 1\n",
        "\n",
        "    while quantidade_iteracoes < self.max_iter and total_de_erros > 0:\n",
        "      erros = []\n",
        "      y_estimado = []\n",
        "\n",
        "      for indice in range(quantidade_instancias):\n",
        "        y_estimado.append(self.__neuronioMP(X[indice]))\n",
        "        erros.append(abs(y[indice] - y_estimado[indice]))\n",
        "        self.w = self.__calcular_peso(erros[indice], X[indice])\n",
        "        self.bias = self.bias + (self.alpha * erros[indice])\n",
        "\n",
        "      total_de_erros = sum(erros)\n",
        "      quantidade_iteracoes += 1\n",
        "\n",
        "  def classificar(self,X):\n",
        "    \"\"\"\n",
        "    realizar o classificação de dados desconhidos\n",
        "\n",
        "    :param X: entradas\n",
        "    :return: rótulos\n",
        "    \"\"\"\n",
        "    y_estimado = []\n",
        "    for indice in range(len(X)):\n",
        "      y_estimado.append(self.__neuronioMP(X[indice]))\n",
        "\n",
        "    return y_estimado"
      ]
    },
    {
      "cell_type": "markdown",
      "source": [
        "Resolvendo a porta NAND com o Perceptron"
      ],
      "metadata": {
        "id": "Af7GMA15NQ4i"
      }
    },
    {
      "cell_type": "code",
      "source": [
        "perceptron = Perceptron(alpha=0.0001, max_iter=10000)\n",
        "X = [[-1,-1],[-1,1],[1,-1],[1,1]]\n",
        "y = [1,1,1,-1]\n",
        "perceptron.treinar(X,y)\n",
        "perceptron.classificar([[-1,-1],[-1,1],[1,-1],[1,1]])"
      ],
      "metadata": {
        "id": "AkOaDeyZOYG_",
        "colab": {
          "base_uri": "https://localhost:8080/"
        },
        "outputId": "9394a40b-f15d-4603-d0da-bab047258ad5"
      },
      "execution_count": 226,
      "outputs": [
        {
          "output_type": "execute_result",
          "data": {
            "text/plain": [
              "[1, 1, 1, -1]"
            ]
          },
          "metadata": {},
          "execution_count": 226
        }
      ]
    },
    {
      "cell_type": "markdown",
      "source": [
        "Resolvendo a porta NOR com o Perceptron"
      ],
      "metadata": {
        "id": "i1OJVU1xYg7f"
      }
    },
    {
      "cell_type": "code",
      "source": [
        "perceptron = Perceptron(alpha=0.0001, max_iter=10000)\n",
        "X = [[-1,-1],[-1,1],[1,-1],[1,1]]\n",
        "y = [-1,1,1,1]\n",
        "perceptron.treinar(X,y)\n",
        "perceptron.classificar([[-1,-1],[-1,1],[1,-1],[1,1]])"
      ],
      "metadata": {
        "colab": {
          "base_uri": "https://localhost:8080/"
        },
        "id": "lbb7XfMIYvSM",
        "outputId": "719eb5ac-286c-4892-dd10-280e13904550"
      },
      "execution_count": 229,
      "outputs": [
        {
          "output_type": "execute_result",
          "data": {
            "text/plain": [
              "[-1, 1, 1, 1]"
            ]
          },
          "metadata": {},
          "execution_count": 229
        }
      ]
    },
    {
      "cell_type": "markdown",
      "source": [
        "# Adaline"
      ],
      "metadata": {
        "id": "FEUy6udIZO5f"
      }
    },
    {
      "cell_type": "code",
      "source": [
        "class Adaline:\n",
        "  def __init__(self, alpha=0.001, eta0=1, max_iter=1000):\n",
        "    \"\"\"\n",
        "    Algoritmo Adaline\n",
        "\n",
        "    :param alpha: Constante entre 0 e 1 que multiplica o termo de regularização (passo de aprendizagem)\n",
        "    :param eta0: Constante pela qual as atualizações do tetha(bias) são multiplicadas\n",
        "    :param max_iter: número máximo de iterações\n",
        "    \"\"\" \n",
        "\n",
        "    self.w = []\n",
        "    self.bias = random.uniform(-1, 1)\n",
        "    self.eta0 = eta0\n",
        "    self.alpha = alpha\n",
        "    self.max_iter = max_iter\n",
        "\n",
        "  def __funcao_ativacao(self,u):\n",
        "    return u\n",
        "\n",
        "  def __neuronioMP(self,x):\n",
        "    # Algoritmo Neurônio de McCulloch-Pits.\n",
        "    ativacao = self.eta0 * self.bias\n",
        "    for indice in range(len(x)):\n",
        "      ativacao += x[indice] * self.w[indice]\n",
        "    return self.__funcao_ativacao(ativacao)\n",
        "  def __calcular_peso(self,erro,x):\n",
        "    novo_w = []\n",
        "    for indice in range(len(self.w)):\n",
        "      novo_w.append(self.w[indice] + (self.alpha * erro * x[indice]))\n",
        "    return novo_w\n",
        "        \n",
        "  def treinar(self,X, y):\n",
        "    \"\"\"\n",
        "    realizar o treinamento do algoritmo\n",
        "\n",
        "    :param X: entradas\n",
        "    :param y: rótulos\n",
        "    \"\"\"\n",
        "    quantidade_atributos = len(X[0])\n",
        "    quantidade_instancias = len(X)\n",
        "\n",
        "    self.w = []\n",
        "    for i in range(quantidade_atributos):\n",
        "      self.w.append(random.uniform(-1, 1))\n",
        "  \n",
        "    quantidade_iteracoes = 0\n",
        "    total_de_erros = 1\n",
        "\n",
        "    while quantidade_iteracoes < self.max_iter and total_de_erros > 0:\n",
        "      erros = []\n",
        "      y_estimado = []\n",
        "\n",
        "      for indice in range(quantidade_instancias):\n",
        "        y_estimado.append(self.__neuronioMP(X[indice]))\n",
        "        erros.append(abs(y[indice] - y_estimado[indice]))\n",
        "        self.w = self.__calcular_peso(erros[indice], X[indice])\n",
        "        self.bias = self.bias + (self.alpha * erros[indice])\n",
        "\n",
        "      total_de_erros = sum(erros)\n",
        "      quantidade_iteracoes += 1\n",
        "\n",
        "  def classificar(self,X):\n",
        "    \"\"\"\n",
        "    realizar o classificação de dados desconhidos\n",
        "\n",
        "    :param X: entradas\n",
        "    :return: rótulos\n",
        "    \"\"\"\n",
        "    y_estimado = []\n",
        "    for indice in range(len(X)):\n",
        "      y_estimado.append(self.__neuronioMP(X[indice]))\n",
        "\n",
        "    return y_estimado"
      ],
      "metadata": {
        "id": "dgtj4dv_ZR7k"
      },
      "execution_count": 230,
      "outputs": []
    },
    {
      "cell_type": "markdown",
      "source": [
        "Resolvendo a porta NAND com Adaline"
      ],
      "metadata": {
        "id": "mWtzEL0paNd5"
      }
    },
    {
      "cell_type": "code",
      "source": [
        "adaline = Adaline(alpha=0.000001, max_iter=10000)\n",
        "X = [[-1,-1],[-1,1],[1,-1],[1,1]]\n",
        "y = [1,1,1,-1]\n",
        "adaline.treinar(X,y)\n",
        "adaline.classificar([[-1,-1],[-1,1],[1,-1],[1,1]])"
      ],
      "metadata": {
        "colab": {
          "base_uri": "https://localhost:8080/"
        },
        "id": "Rf8DnkIXaQ2N",
        "outputId": "692ff9a5-3516-47b3-8ea7-584b55793913"
      },
      "execution_count": 261,
      "outputs": [
        {
          "output_type": "execute_result",
          "data": {
            "text/plain": [
              "[0.20877187444702483,\n",
              " -0.9013940347512979,\n",
              " 0.13729167193296032,\n",
              " -0.9728742372653624]"
            ]
          },
          "metadata": {},
          "execution_count": 261
        }
      ]
    },
    {
      "cell_type": "markdown",
      "source": [
        "Resolvendo a porta NOR com Adaline"
      ],
      "metadata": {
        "id": "PdsDqmRbaRnG"
      }
    },
    {
      "cell_type": "code",
      "source": [
        "adaline = Adaline(alpha=0.000001, max_iter=10000)\n",
        "X = [[-1,-1],[-1,1],[1,-1],[1,1]]\n",
        "y = [-1,1,1,1]\n",
        "adaline.treinar(X,y)\n",
        "adaline.classificar([[-1,-1],[-1,1],[1,-1],[1,1]])"
      ],
      "metadata": {
        "colab": {
          "base_uri": "https://localhost:8080/"
        },
        "id": "k0XjzGLFaTKZ",
        "outputId": "735e46fa-349f-42a3-d8eb-ebafe4a7bb41"
      },
      "execution_count": 271,
      "outputs": [
        {
          "output_type": "execute_result",
          "data": {
            "text/plain": [
              "[-0.7548044583314498,\n",
              " -0.4596085118274572,\n",
              " 0.20497920805994155,\n",
              " 0.5001751545639341]"
            ]
          },
          "metadata": {},
          "execution_count": 271
        }
      ]
    }
  ]
}