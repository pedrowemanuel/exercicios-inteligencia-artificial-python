{
  "nbformat": 4,
  "nbformat_minor": 0,
  "metadata": {
    "colab": {
      "provenance": [],
      "toc_visible": true,
      "authorship_tag": "ABX9TyPD5jNAcyNK1MxQrHNbOtxS",
      "include_colab_link": true
    },
    "kernelspec": {
      "name": "python3",
      "display_name": "Python 3"
    },
    "language_info": {
      "name": "python"
    }
  },
  "cells": [
    {
      "cell_type": "markdown",
      "metadata": {
        "id": "view-in-github",
        "colab_type": "text"
      },
      "source": [
        "<a href=\"https://colab.research.google.com/github/pedrowemanuel/exercicios-inteligencia-artificial-python/blob/main/RNA_NEURONIO_MP.ipynb\" target=\"_parent\"><img src=\"https://colab.research.google.com/assets/colab-badge.svg\" alt=\"Open In Colab\"/></a>"
      ]
    },
    {
      "cell_type": "markdown",
      "source": [
        "# Neurônio de McCulloch-Pits"
      ],
      "metadata": {
        "id": "Ebyr3idTaexe"
      }
    },
    {
      "cell_type": "markdown",
      "source": [
        "Definação do algoritmo"
      ],
      "metadata": {
        "id": "bO1NoMCwNLXd"
      }
    },
    {
      "cell_type": "code",
      "execution_count": 9,
      "metadata": {
        "id": "838h1F9YZx_-"
      },
      "outputs": [],
      "source": [
        "## Problema: emitir um sinal de saída de acordo com a seguinte lógica:\n",
        "## Se pelo menos duas das entradas são iguais a 1, o neurônio emite um sinal de saída igual a 1.\n",
        "## Caso contrário, emite um sinal de saída igual a 0. Considere que todos os pesos são 1s.\n",
        "\n",
        "\n",
        "def neuronioMP(x, w, funcao_ativacao, bias=1):\n",
        "  # Algoritmo Neurônio de McCulloch-Pits.\n",
        "\n",
        "  ativacao = bias\n",
        "\n",
        "  # somatório da multiplicação das entradas pelos pesos\n",
        "  for indice in range(len(x)):\n",
        "    ativacao += x[indice] * w[indice]\n",
        "\n",
        "  # passa o resultado para a função de ativação\n",
        "  return funcao_ativacao(ativacao)"
      ]
    },
    {
      "cell_type": "code",
      "source": [
        "def funcao_ativacao(u):\n",
        "  if(u >= 3):\n",
        "    return 1\n",
        "  return 0"
      ],
      "metadata": {
        "id": "CvaHGkJYpT4U"
      },
      "execution_count": 10,
      "outputs": []
    },
    {
      "cell_type": "markdown",
      "source": [
        "usando o algoritmo para resolver o problema"
      ],
      "metadata": {
        "id": "rZh3zwoKo1eN"
      }
    },
    {
      "cell_type": "code",
      "source": [
        "w = [1,1,1]\n",
        "x = [0,0,0]\n",
        "neuronioMP(x, w, funcao_ativacao, bias=1)"
      ],
      "metadata": {
        "colab": {
          "base_uri": "https://localhost:8080/"
        },
        "id": "zY3YhKVKo4mJ",
        "outputId": "80df3b0b-a46b-4107-e1d4-122e14822310"
      },
      "execution_count": 11,
      "outputs": [
        {
          "output_type": "execute_result",
          "data": {
            "text/plain": [
              "0"
            ]
          },
          "metadata": {},
          "execution_count": 11
        }
      ]
    },
    {
      "cell_type": "code",
      "source": [
        "x = [1,0,0]\n",
        "neuronioMP(x, w, funcao_ativacao, bias=1)"
      ],
      "metadata": {
        "colab": {
          "base_uri": "https://localhost:8080/"
        },
        "id": "TuOxuPadpeZx",
        "outputId": "aa7ffd45-04f6-404b-f804-a695a239aadf"
      },
      "execution_count": 12,
      "outputs": [
        {
          "output_type": "execute_result",
          "data": {
            "text/plain": [
              "0"
            ]
          },
          "metadata": {},
          "execution_count": 12
        }
      ]
    },
    {
      "cell_type": "code",
      "source": [
        "x = [1,1,0]\n",
        "neuronioMP(x, w, funcao_ativacao, bias=1)"
      ],
      "metadata": {
        "colab": {
          "base_uri": "https://localhost:8080/"
        },
        "id": "Qx-RJscUp1I6",
        "outputId": "0d8f6e78-8552-4a67-c649-8a3199847542"
      },
      "execution_count": 13,
      "outputs": [
        {
          "output_type": "execute_result",
          "data": {
            "text/plain": [
              "1"
            ]
          },
          "metadata": {},
          "execution_count": 13
        }
      ]
    },
    {
      "cell_type": "code",
      "source": [
        "x = [1,1,1]\n",
        "neuronioMP(x, w, funcao_ativacao, bias=1)"
      ],
      "metadata": {
        "colab": {
          "base_uri": "https://localhost:8080/"
        },
        "id": "kzsHnWEIp36N",
        "outputId": "6f82f7d5-b15f-4ea0-de98-b9def38acf96"
      },
      "execution_count": 14,
      "outputs": [
        {
          "output_type": "execute_result",
          "data": {
            "text/plain": [
              "1"
            ]
          },
          "metadata": {},
          "execution_count": 14
        }
      ]
    },
    {
      "cell_type": "code",
      "source": [
        "x = [1,0,1]\n",
        "neuronioMP(x, w, funcao_ativacao, bias=1)"
      ],
      "metadata": {
        "colab": {
          "base_uri": "https://localhost:8080/"
        },
        "id": "g6rR6tOWp6rA",
        "outputId": "c8dd06ef-43eb-4c44-e98c-9862ef4c3571"
      },
      "execution_count": 15,
      "outputs": [
        {
          "output_type": "execute_result",
          "data": {
            "text/plain": [
              "1"
            ]
          },
          "metadata": {},
          "execution_count": 15
        }
      ]
    }
  ]
}