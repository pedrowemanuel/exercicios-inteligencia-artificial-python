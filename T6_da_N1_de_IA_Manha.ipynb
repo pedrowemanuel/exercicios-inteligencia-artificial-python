{
  "nbformat": 4,
  "nbformat_minor": 0,
  "metadata": {
    "colab": {
      "provenance": [],
      "collapsed_sections": [
        "aN3P5UBbxV1H"
      ],
      "toc_visible": true,
      "authorship_tag": "ABX9TyMUO0KTDXnJsbmgm2alq+ml",
      "include_colab_link": true
    },
    "kernelspec": {
      "name": "python3",
      "display_name": "Python 3"
    },
    "language_info": {
      "name": "python"
    }
  },
  "cells": [
    {
      "cell_type": "markdown",
      "metadata": {
        "id": "view-in-github",
        "colab_type": "text"
      },
      "source": [
        "<a href=\"https://colab.research.google.com/github/pedrowemanuel/exercicios-inteligencia-artificial-python/blob/main/T6_da_N1_de_IA_Manha.ipynb\" target=\"_parent\"><img src=\"https://colab.research.google.com/assets/colab-badge.svg\" alt=\"Open In Colab\"/></a>"
      ]
    },
    {
      "cell_type": "markdown",
      "source": [
        "# Neurônio de M-P"
      ],
      "metadata": {
        "id": "aN3P5UBbxV1H"
      }
    },
    {
      "cell_type": "code",
      "execution_count": null,
      "metadata": {
        "id": "whQiyx1lwvPD"
      },
      "outputs": [],
      "source": [
        "# Algoritmo Neurônio de McCulloch-Pits. O limiar(θ) é definido pelo primeiro peso.\n",
        "def neuronioMP(entradas, pesos, funcaoDeAtivacao):\n",
        "  ativacao = 0.0\n",
        "  for indice in range(len(entradas)):\n",
        "    ativacao += entradas[indice] * pesos[indice]\n",
        "  return funcaoDeAtivacao(ativacao)"
      ]
    },
    {
      "cell_type": "markdown",
      "source": [
        "Função de ativação Relé"
      ],
      "metadata": {
        "id": "CP_M5XRZ01qP"
      }
    },
    {
      "cell_type": "code",
      "source": [
        "def rele(ativacao):\n",
        "  if(ativacao > 0):\n",
        "    return 1\n",
        "  return -1"
      ],
      "metadata": {
        "id": "mIGixYSA0yaa"
      },
      "execution_count": null,
      "outputs": []
    },
    {
      "cell_type": "markdown",
      "source": [
        "Chamando o algoritmo"
      ],
      "metadata": {
        "id": "Ih063thi1qua"
      }
    },
    {
      "cell_type": "code",
      "source": [
        "x = [1.0, 1.2, -0.01, -0.8, 2.1]\n",
        "w = [-1.0, 0.02, -0.2, 0.03, -0.09]\n",
        "y = neuronioMP(x, w, rele)\n",
        "if(y > 0):\n",
        "  print(\"A instância pertence a classe A\")\n",
        "else:\n",
        "  print(\"A instância pertence a classe B\")"
      ],
      "metadata": {
        "colab": {
          "base_uri": "https://localhost:8080/"
        },
        "id": "US427jpg1zrr",
        "outputId": "67972de5-63af-4e3e-ade6-12db46f94eee"
      },
      "execution_count": null,
      "outputs": [
        {
          "output_type": "stream",
          "name": "stdout",
          "text": [
            "A instância pertence a classe B\n"
          ]
        }
      ]
    },
    {
      "cell_type": "markdown",
      "source": [
        "# Algoritmo KNN"
      ],
      "metadata": {
        "id": "VBkC9cdj37kZ"
      }
    },
    {
      "cell_type": "code",
      "source": [
        "class KNN:\n",
        "  def __init__(self, k_vizinhos):\n",
        "    self.k_vizinhos = k_vizinhos\n",
        "    self.X = []\n",
        "    self.y = []\n",
        "  \n",
        "  def treinar(self, X, y):\n",
        "    self.X = X\n",
        "    self.y = y\n",
        "  \n",
        "  def __distanciaEuclidiana(self, a, b):\n",
        "    if (len(a) != len(b)):\n",
        "      return None\n",
        "    distancia = 0\n",
        "    for indice in range(len(a)):\n",
        "      distancia += (a[indice] - b[indice])**2\n",
        "    return (distancia)**(1/2)\n",
        "  \n",
        "  def _moda(self, array):\n",
        "    numero_repeticoes = {}\n",
        "    moda = {\"indice\": 0, \"repeticoes\": 0}\n",
        "    for i in range(len(array)):\n",
        "      if(not (i in numero_repeticoes)):\n",
        "        numero_repeticoes[i] = 0\n",
        "      numero_repeticoes[i] += 1\n",
        "\n",
        "      if (moda[\"repeticoes\"] > numero_repeticoes[i]):\n",
        "        moda[\"indice\"] = i\n",
        "        moda[\"repeticoes\"] = numero_repeticoes[i]\n",
        "    return array[moda[\"indice\"]]\n",
        "  \n",
        "  def classificar(self, X):\n",
        "    y = []\n",
        "    for x in X:\n",
        "      distancias = {}\n",
        "      for indice in range(len(self.X)):\n",
        "        distancias[indice] = self.__distanciaEuclidiana(x, self.X[indice])\n",
        "      distancias_ordenadas = sorted(distancias, key=distancias.get)\n",
        "      vizinhos_mais_proximos = distancias_ordenadas[0:(self.k_vizinhos - 1)]\n",
        "      classes = []\n",
        "      for indice in vizinhos_mais_proximos:\n",
        "        classes.append(self.y[indice])\n",
        "      y.append(self._moda(classes))\n",
        "    return y\n"
      ],
      "metadata": {
        "id": "m_UCEBRI4C3r"
      },
      "execution_count": 12,
      "outputs": []
    },
    {
      "cell_type": "markdown",
      "source": [
        "Chamando o algoritmo para porta XOR"
      ],
      "metadata": {
        "id": "Z3GaLQv1HnsA"
      }
    },
    {
      "cell_type": "code",
      "source": [
        "X = [[0,0],[0,1],[1,0],[1,1]]\n",
        "y = [0,1,1,0]\n",
        "knn = KNN(k_vizinhos = 3)\n",
        "knn.treinar(X, y)\n",
        "knn.classificar([[0,0],[0,1],[1,0],[1,1]])"
      ],
      "metadata": {
        "colab": {
          "base_uri": "https://localhost:8080/"
        },
        "id": "1qB-5apeHoKj",
        "outputId": "e6a9bf64-6266-485c-c36d-a1a8a20767e5"
      },
      "execution_count": 13,
      "outputs": [
        {
          "output_type": "execute_result",
          "data": {
            "text/plain": [
              "[0, 1, 1, 0]"
            ]
          },
          "metadata": {},
          "execution_count": 13
        }
      ]
    },
    {
      "cell_type": "markdown",
      "source": [
        "Chamando o algoritmo para porta NAND"
      ],
      "metadata": {
        "id": "MiXQX0rOMjwC"
      }
    },
    {
      "cell_type": "code",
      "source": [
        "X = [[0,0],[0,1],[1,0],[1,1]]\n",
        "y = [1,1,1,0]\n",
        "knn = KNN(k_vizinhos = 3)\n",
        "knn.treinar(X, y)\n",
        "knn.classificar([[0,0],[0,1],[1,0],[1,1]])"
      ],
      "metadata": {
        "colab": {
          "base_uri": "https://localhost:8080/"
        },
        "outputId": "ba576190-2a14-4057-e7f1-ac467f229e3c",
        "id": "o9cy5yqDMjwp"
      },
      "execution_count": 14,
      "outputs": [
        {
          "output_type": "execute_result",
          "data": {
            "text/plain": [
              "[1, 1, 1, 0]"
            ]
          },
          "metadata": {},
          "execution_count": 14
        }
      ]
    },
    {
      "cell_type": "markdown",
      "source": [
        "Chamando o algoritmo para porta NOR"
      ],
      "metadata": {
        "id": "eM1bjmKBM_D1"
      }
    },
    {
      "cell_type": "code",
      "source": [
        "X = [[0,0],[0,1],[1,0],[1,1]]\n",
        "y = [0,1,1,1]\n",
        "knn = KNN(k_vizinhos = 3)\n",
        "knn.treinar(X, y)\n",
        "knn.classificar([[0,0],[0,1],[1,0],[1,1]])"
      ],
      "metadata": {
        "colab": {
          "base_uri": "https://localhost:8080/"
        },
        "outputId": "be20014d-5ceb-459a-98a8-f4cf22c72d7e",
        "id": "RMDSfPStM_D3"
      },
      "execution_count": 15,
      "outputs": [
        {
          "output_type": "execute_result",
          "data": {
            "text/plain": [
              "[0, 1, 1, 1]"
            ]
          },
          "metadata": {},
          "execution_count": 15
        }
      ]
    }
  ]
}