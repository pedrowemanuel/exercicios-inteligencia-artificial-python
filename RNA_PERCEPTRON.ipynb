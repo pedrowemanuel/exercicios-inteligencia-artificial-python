{
  "nbformat": 4,
  "nbformat_minor": 0,
  "metadata": {
    "colab": {
      "provenance": [],
      "toc_visible": true,
      "authorship_tag": "ABX9TyNFnp+AJlxYIyIeNOp3O+s/",
      "include_colab_link": true
    },
    "kernelspec": {
      "name": "python3",
      "display_name": "Python 3"
    },
    "language_info": {
      "name": "python"
    }
  },
  "cells": [
    {
      "cell_type": "markdown",
      "metadata": {
        "id": "view-in-github",
        "colab_type": "text"
      },
      "source": [
        "<a href=\"https://colab.research.google.com/github/pedrowemanuel/exercicios-inteligencia-artificial-python/blob/main/RNA_PERCEPTRON.ipynb\" target=\"_parent\"><img src=\"https://colab.research.google.com/assets/colab-badge.svg\" alt=\"Open In Colab\"/></a>"
      ]
    },
    {
      "cell_type": "markdown",
      "source": [
        "# Perceptron"
      ],
      "metadata": {
        "id": "Ebyr3idTaexe"
      }
    },
    {
      "cell_type": "markdown",
      "source": [
        "Definação do algoritmo"
      ],
      "metadata": {
        "id": "bO1NoMCwNLXd"
      }
    },
    {
      "cell_type": "code",
      "execution_count": 41,
      "metadata": {
        "id": "838h1F9YZx_-"
      },
      "outputs": [],
      "source": [
        "import random\n",
        "\n",
        "class Perceptron:\n",
        "  def __init__(self, alpha=0.1, eta0=1, max_iter=1000):\n",
        "    \"\"\"\n",
        "    Classificador Perceptron simples\n",
        "\n",
        "    :param alpha: Constante entre 0 e 1 que multiplica o termo de regularização (passo de aprendizagem)\n",
        "    :param eta0: Constante pela qual as atualizações do tetha(bias) são multiplicadas\n",
        "    :param max_iter: número máximo de iterações\n",
        "    \"\"\"\n",
        "\n",
        "    self.w = []\n",
        "    self.bias = random.uniform(-1, 1)\n",
        "    self.eta0 = eta0\n",
        "    self.alpha = alpha\n",
        "    self.max_iter = max_iter\n",
        "\n",
        "  def __funcao_ativacao(self,u):\n",
        "    if(u > 0):\n",
        "      return 1\n",
        "    return 0\n",
        "\n",
        "  def __neuronioMP(self,x):\n",
        "    # Algoritmo Neurônio de McCulloch-Pits.\n",
        "    ativacao = self.eta0 * self.bias\n",
        "\n",
        "    # somatório da multiplicação das entradas pelos pesos\n",
        "    for indice in range(len(x)):\n",
        "      ativacao += x[indice] * self.w[indice]\n",
        "\n",
        "    # passa o resultado para a função de ativação\n",
        "    return self.__funcao_ativacao(ativacao)\n",
        "\n",
        "  def __calcular_peso(self,erro,x):\n",
        "    novo_w = []\n",
        "    for indice in range(len(self.w)):\n",
        "      # usar a regra delta para calcular os pesos\n",
        "      novo_w.append(self.w[indice] + (self.alpha * erro * x[indice]))\n",
        "    return novo_w\n",
        "\n",
        "  def treinar(self,X, y):\n",
        "    \"\"\"\n",
        "    realizar o treinamento do algoritmo\n",
        "\n",
        "    :param X: entradas\n",
        "    :param y: rótulos (cada um rótulo ou é -1 ou é 1)\n",
        "    \"\"\"\n",
        "    quantidade_atributos = len(X[0])\n",
        "    quantidade_instancias = len(X)\n",
        "\n",
        "    # inicia o treinamento setando os pesos com valores aleatórios entre -1 e 1\n",
        "    self.w = []\n",
        "    for i in range(quantidade_atributos):\n",
        "      self.w.append(random.uniform(-1, 1))\n",
        "\n",
        "    quantidade_iteracoes = 0\n",
        "    total_de_erros = 1\n",
        "\n",
        "    # realiza iterações até atingir o erro zero ou o limite de iterações\n",
        "    while quantidade_iteracoes < self.max_iter and total_de_erros > 0:\n",
        "      erros = []\n",
        "      y_estimado = []\n",
        "\n",
        "      # percorre cada instância\n",
        "      for indice in range(quantidade_instancias):\n",
        "        # usa o __neuronioMP para calcular a saída estimada\n",
        "        y_estimado.append(self.__neuronioMP(X[indice]))\n",
        "\n",
        "        # calcula o erro comparando a saída estimada com a saída correta\n",
        "        erros.append(abs(y[indice] - y_estimado[indice]))\n",
        "        self.w = self.__calcular_peso(erros[indice], X[indice])\n",
        "        self.bias = self.bias + (self.alpha * erros[indice])\n",
        "\n",
        "      total_de_erros = sum(erros)\n",
        "      quantidade_iteracoes += 1\n",
        "\n",
        "  def classificar(self,X):\n",
        "    \"\"\"\n",
        "    realizar o classificação de dados desconhidos\n",
        "\n",
        "    :param X: entradas\n",
        "    :return: rótulos\n",
        "    \"\"\"\n",
        "    y_estimado = []\n",
        "    for indice in range(len(X)):\n",
        "      y_estimado.append(self.__neuronioMP(X[indice]))\n",
        "\n",
        "    return y_estimado"
      ]
    },
    {
      "cell_type": "markdown",
      "source": [
        "# **Resolvendo a porta NAND com o Perceptron**"
      ],
      "metadata": {
        "id": "Af7GMA15NQ4i"
      }
    },
    {
      "cell_type": "markdown",
      "source": [
        "Treinamento"
      ],
      "metadata": {
        "id": "uw1hBVqojume"
      }
    },
    {
      "cell_type": "code",
      "source": [
        "perceptron = Perceptron(alpha=0.01, max_iter=10000)\n",
        "X = [[0,0],[0,1],[1,0],[1,1]]\n",
        "y = [1,1,1,0]\n",
        "perceptron.treinar(X,y)"
      ],
      "metadata": {
        "id": "AkOaDeyZOYG_"
      },
      "execution_count": 42,
      "outputs": []
    },
    {
      "cell_type": "markdown",
      "source": [
        "Classificando"
      ],
      "metadata": {
        "id": "WDbkGBaxjmQ5"
      }
    },
    {
      "cell_type": "code",
      "source": [
        "perceptron.classificar([[0,0],[0,1],[1,0],[1,1]])"
      ],
      "metadata": {
        "colab": {
          "base_uri": "https://localhost:8080/"
        },
        "id": "wrmPtx-gjjwA",
        "outputId": "30ef13cd-1ea2-4aea-94b1-972c55ee40af"
      },
      "execution_count": 45,
      "outputs": [
        {
          "output_type": "execute_result",
          "data": {
            "text/plain": [
              "[1, 1, 1, 0]"
            ]
          },
          "metadata": {},
          "execution_count": 45
        }
      ]
    }
  ]
}